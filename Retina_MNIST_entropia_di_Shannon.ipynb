{
  "cells": [
    {
      "cell_type": "markdown",
      "metadata": {
        "id": "view-in-github",
        "colab_type": "text"
      },
      "source": [
        "<a href=\"https://colab.research.google.com/github/daltonismo15/Retina-MNIST-entropia-di-Shannon/blob/main/Retina_MNIST_entropia_di_Shannon.ipynb\" target=\"_parent\"><img src=\"https://colab.research.google.com/assets/colab-badge.svg\" alt=\"Open In Colab\"/></a>"
      ]
    },
    {
      "cell_type": "markdown",
      "metadata": {
        "id": "LmSz7hABlY_2"
      },
      "source": [
        "Piccola CNN per la classificazione di handwritten digits (dataset MNIST), lo scheletro è preso da un tutorial di pytorch (https://www.youtube.com/playlist?list=PLqnslRFeH2UrcDBWF5mfPGpqQDSta6VK4), ho fatto alcune modifiche per aggiungere del rumore (blocchi neri), per far funzionare la rete solo per il riconoscimento di 9 cifre (numeri da 0 a 9) e nel ciclo di evaluation per avere la possibilità di valutare l'entropia di ogni cifra."
      ]
    },
    {
      "cell_type": "code",
      "execution_count": null,
      "metadata": {
        "id": "jeKVUJ-DeEzV"
      },
      "outputs": [],
      "source": [
        "class BlackBlock(object):\n",
        "    def __init__(self, block_size=5, num_blocks=1):\n",
        "        self.block_size = block_size\n",
        "        self.num_blocks = num_blocks\n",
        "\n",
        "    def __call__(self, tensor):\n",
        "        c, h, w = tensor.size()\n",
        "        for _ in range(self.num_blocks):\n",
        "            top_left_x = random.randint(0, w - self.block_size)\n",
        "            top_left_y = random.randint(0, h - self.block_size)\n",
        "            tensor[:, top_left_y:top_left_y + self.block_size, top_left_x:top_left_x + self.block_size] = 0\n",
        "        return tensor\n",
        "\n",
        "    def __repr__(self):\n",
        "        return f\"{self.__class__.__name__}(block_size={self.block_size}, num_blocks={self.num_blocks})\""
      ]
    },
    {
      "cell_type": "markdown",
      "metadata": {
        "id": "F97x6uZcm3LU"
      },
      "source": [
        "Definizione dei parametri e caricamento del dataset MNIST"
      ]
    },
    {
      "cell_type": "code",
      "execution_count": null,
      "metadata": {
        "id": "Z1ujrD-_AFoJ"
      },
      "outputs": [],
      "source": [
        "import torch\n",
        "import torch.nn as nn\n",
        "import torchvision\n",
        "import torchvision.transforms as transforms\n",
        "import matplotlib.pyplot as plt\n",
        "import random\n",
        "import torch.optim as optim\n",
        "\n",
        "device = torch.device('cuda' if torch.cuda.is_available() else 'cpu') #cosi se c'hai la GPU runna lì\n",
        "\n",
        "\n",
        "input_size = 784 # 28x28\n",
        "hidden_size = 500\n",
        "num_classes = 10 # digits from 0 to 9\n",
        "num_epochs = 10\n",
        "batch_size = 100 #dammene 100\n",
        "learning_rate = 0.001\n",
        "annerito = 7\n",
        "\n",
        "\n",
        "test_transform = transforms.Compose([\n",
        "    transforms.ToTensor(),\n",
        "    BlackBlock(block_size=annerito, num_blocks=2),\n",
        "])\n",
        "\n",
        "\n",
        "train_dataset = torchvision.datasets.MNIST(root='./data',  #la cartella dove metti i dati\n",
        "                                           train=True,  #ci dobbiamo fare il train\n",
        "                                           transform=transforms.ToTensor(),  #traformalo in un tensore\n",
        "                                           download=True) #download se non ce l'hai\n",
        "\n",
        "test_dataset = torchvision.datasets.MNIST(root='./data',\n",
        "                                          train=False,\n",
        "                                          transform=test_transform)\n",
        "\n",
        "train_loader = torch.utils.data.DataLoader(dataset=train_dataset,\n",
        "                                           batch_size=batch_size,\n",
        "                                           shuffle=True)\n",
        "\n",
        "test_loader = torch.utils.data.DataLoader(dataset=test_dataset,\n",
        "                                          batch_size=4, #@uyfliycfliycf;if\n",
        "                                          shuffle=False) #non importa for the evaluescion\n"
      ]
    },
    {
      "cell_type": "markdown",
      "metadata": {
        "id": "9O-4OKllnByh"
      },
      "source": [
        "La rete è molto base: trasformazione lineare, ReLu che $\\mathbb{R}\\ → [0,1]$ e poi un'altra trasformazione lineare"
      ]
    },
    {
      "cell_type": "code",
      "execution_count": null,
      "metadata": {
        "colab": {
          "base_uri": "https://localhost:8080/"
        },
        "id": "16qU4BrtP4Fw",
        "outputId": "4983938d-f288-4bb7-f3ef-7426ac26c822"
      },
      "outputs": [
        {
          "output_type": "stream",
          "name": "stdout",
          "text": [
            "Epoch [1/10], Step [100/600], Loss: 0.3531\n",
            "Epoch [1/10], Step [200/600], Loss: 0.2440\n",
            "Epoch [1/10], Step [300/600], Loss: 0.2053\n",
            "Epoch [1/10], Step [400/600], Loss: 0.1218\n",
            "Epoch [1/10], Step [500/600], Loss: 0.1353\n",
            "Epoch [1/10], Step [600/600], Loss: 0.2693\n",
            "Epoch [2/10], Step [100/600], Loss: 0.1739\n",
            "Epoch [2/10], Step [200/600], Loss: 0.2514\n",
            "Epoch [2/10], Step [300/600], Loss: 0.1979\n",
            "Epoch [2/10], Step [400/600], Loss: 0.1898\n",
            "Epoch [2/10], Step [500/600], Loss: 0.1219\n",
            "Epoch [2/10], Step [600/600], Loss: 0.0764\n",
            "Epoch [3/10], Step [100/600], Loss: 0.1053\n",
            "Epoch [3/10], Step [200/600], Loss: 0.0696\n",
            "Epoch [3/10], Step [300/600], Loss: 0.0936\n",
            "Epoch [3/10], Step [400/600], Loss: 0.1675\n",
            "Epoch [3/10], Step [500/600], Loss: 0.0797\n",
            "Epoch [3/10], Step [600/600], Loss: 0.0256\n",
            "Epoch [4/10], Step [100/600], Loss: 0.0543\n",
            "Epoch [4/10], Step [200/600], Loss: 0.0169\n",
            "Epoch [4/10], Step [300/600], Loss: 0.0991\n",
            "Epoch [4/10], Step [400/600], Loss: 0.0467\n",
            "Epoch [4/10], Step [500/600], Loss: 0.1078\n",
            "Epoch [4/10], Step [600/600], Loss: 0.0190\n",
            "Epoch [5/10], Step [100/600], Loss: 0.0350\n",
            "Epoch [5/10], Step [200/600], Loss: 0.0865\n",
            "Epoch [5/10], Step [300/600], Loss: 0.0260\n",
            "Epoch [5/10], Step [400/600], Loss: 0.0221\n",
            "Epoch [5/10], Step [500/600], Loss: 0.0244\n",
            "Epoch [5/10], Step [600/600], Loss: 0.0226\n",
            "Epoch [6/10], Step [100/600], Loss: 0.0124\n",
            "Epoch [6/10], Step [200/600], Loss: 0.0698\n",
            "Epoch [6/10], Step [300/600], Loss: 0.0436\n",
            "Epoch [6/10], Step [400/600], Loss: 0.0089\n",
            "Epoch [6/10], Step [500/600], Loss: 0.0639\n",
            "Epoch [6/10], Step [600/600], Loss: 0.0071\n",
            "Epoch [7/10], Step [100/600], Loss: 0.0169\n",
            "Epoch [7/10], Step [200/600], Loss: 0.0492\n",
            "Epoch [7/10], Step [300/600], Loss: 0.0283\n",
            "Epoch [7/10], Step [400/600], Loss: 0.0096\n",
            "Epoch [7/10], Step [500/600], Loss: 0.0218\n",
            "Epoch [7/10], Step [600/600], Loss: 0.0111\n",
            "Epoch [8/10], Step [100/600], Loss: 0.0014\n",
            "Epoch [8/10], Step [200/600], Loss: 0.0031\n",
            "Epoch [8/10], Step [300/600], Loss: 0.0054\n",
            "Epoch [8/10], Step [400/600], Loss: 0.0037\n",
            "Epoch [8/10], Step [500/600], Loss: 0.0669\n",
            "Epoch [8/10], Step [600/600], Loss: 0.0226\n",
            "Epoch [9/10], Step [100/600], Loss: 0.0294\n",
            "Epoch [9/10], Step [200/600], Loss: 0.0027\n",
            "Epoch [9/10], Step [300/600], Loss: 0.0022\n",
            "Epoch [9/10], Step [400/600], Loss: 0.0301\n",
            "Epoch [9/10], Step [500/600], Loss: 0.0057\n",
            "Epoch [9/10], Step [600/600], Loss: 0.0065\n",
            "Epoch [10/10], Step [100/600], Loss: 0.0045\n",
            "Epoch [10/10], Step [200/600], Loss: 0.0061\n",
            "Epoch [10/10], Step [300/600], Loss: 0.0018\n",
            "Epoch [10/10], Step [400/600], Loss: 0.0058\n",
            "Epoch [10/10], Step [500/600], Loss: 0.0119\n",
            "Epoch [10/10], Step [600/600], Loss: 0.0151\n"
          ]
        }
      ],
      "source": [
        "#One hidden layer\n",
        "class NeuralNet(nn.Module):\n",
        "    def __init__(self, input_size, hidden_size, num_classes): #num_classes = output_size\n",
        "        super(NeuralNet, self).__init__()\n",
        "        self.input_size = input_size\n",
        "        self.l1 = nn.Linear(input_size, hidden_size) #il primo layer si prende in imput l'imput size ed esce con un numero di cose = hidden_size\n",
        "        self.relu = nn.ReLU() # ReLu\n",
        "        self.l2 = nn.Linear(hidden_size, num_classes)  # ed usciamo con 9 cose\n",
        "\n",
        "    def forward(self, x): #passo in avanti\n",
        "        out = self.l1(x)\n",
        "        out = self.relu(out)\n",
        "        out = self.l2(out)\n",
        "        # no activation and no softmax at the end perchè poi usamo SSL che gia ce l'ha\n",
        "        return out\n",
        "\n",
        "model = NeuralNet(input_size, hidden_size, num_classes).to(device)\n",
        "\n",
        "\n",
        "criterion = nn.CrossEntropyLoss()\n",
        "optimizer = torch.optim.Adam(model.parameters(), lr=learning_rate)\n",
        "\n",
        "# Fase di allenamento\n",
        "n_total_steps = len(train_loader)\n",
        "for epoch in range(num_epochs):\n",
        "    for i, (images, labels) in enumerate(train_loader):  #enumerate ci da l'index\n",
        "        # origin shape: [100, 1, 28, 28]\n",
        "        # resized: [100, 784] #100 vettori colonna lunghi 784\n",
        "        images = images.reshape(-1, 28*28).to(device) #-1 lo fa da solo\n",
        "        labels = labels.to(device)\n",
        "\n",
        "        # Passo in avanti\n",
        "        outputs = model(images)\n",
        "        loss = criterion(outputs, labels)\n",
        "\n",
        "        #Gradient descend\n",
        "        optimizer.zero_grad()\n",
        "        loss.backward()\n",
        "        optimizer.step()\n",
        "\n",
        "        if (i+1) % 100 == 0:\n",
        "            print (f'Epoch [{epoch+1}/{num_epochs}], Step [{i+1}/{n_total_steps}], Loss: {loss.item():.4f}')\n",
        "\n"
      ]
    },
    {
      "cell_type": "markdown",
      "metadata": {
        "id": "SExsU55Ynq89"
      },
      "source": [
        "Prendo le 10 cifre da 0 a 9 e le stampo per farmi un'idea del segnale che sto trasmettendo (leggendo).\n",
        "\n",
        "L'aggiunta dei blocchi neri a coprire dei pixel delle immagini serve a simulare il rumore che subisce un segnale."
      ]
    },
    {
      "cell_type": "code",
      "execution_count": null,
      "metadata": {
        "id": "m1gDfbQu7OGU",
        "colab": {
          "base_uri": "https://localhost:8080/",
          "height": 351
        },
        "outputId": "881666ea-d20d-455f-ceee-433f78d98642"
      },
      "outputs": [
        {
          "output_type": "display_data",
          "data": {
            "text/plain": [
              "<Figure size 640x480 with 10 Axes>"
            ],
            "image/png": "[encoded data removed]"
          },
          "metadata": {}
        }
      ],
      "source": [
        "indices = []\n",
        "for i in range(10):\n",
        "    for index in range(len(test_dataset)):\n",
        "        if test_dataset[index][1] == i:\n",
        "            indices.append(index)\n",
        "            break\n",
        "\n",
        "from torch.utils.data import Subset\n",
        "\n",
        "test_subset = Subset(test_dataset, indices)\n",
        "\n",
        "\n",
        "\n",
        "\n",
        "test_loader = torch.utils.data.DataLoader(dataset=test_subset,\n",
        "                                          batch_size=10,\n",
        "                                          shuffle=False) #non importa for the evaluescion\n",
        "\n",
        "\n",
        "\n",
        "\n",
        "\n",
        "examples = iter(test_loader)\n",
        "example_data, example_targets = next(examples)\n",
        "\n",
        "for i in range(10):\n",
        "    plt.subplot(2,5,i+1)\n",
        "    plt.imshow(example_data[i][0], cmap='gray')\n",
        "    plt.grid()\n",
        "plt.show()"
      ]
    },
    {
      "cell_type": "code",
      "execution_count": null,
      "metadata": {
        "id": "lezpGz9Obz16"
      },
      "outputs": [],
      "source": [
        "import numpy as np"
      ]
    },
    {
      "cell_type": "markdown",
      "metadata": {
        "id": "p2DAF12un0uk"
      },
      "source": [
        "Definizione dell'entropia di Shannon"
      ]
    },
    {
      "cell_type": "code",
      "execution_count": null,
      "metadata": {
        "id": "7VZzVBp3bTzh"
      },
      "outputs": [],
      "source": [
        "def shannon_entropy(probabilities):\n",
        "    probabilities = np.array(probabilities)\n",
        "    probabilities = probabilities[probabilities > 0]  # no log(0) nel caso\n",
        "    return -np.sum(probabilities * np.log2(probabilities))"
      ]
    },
    {
      "cell_type": "markdown",
      "metadata": {
        "id": "4yt0T7Nkn4vW"
      },
      "source": [
        "Cicilo di valutazione delle prestazioni della rete (essendo il nostro test_set molto piccolo non posso fare stime reali sul funzionamento della rete ma non è quello che mi interessa, purtroppo questo tipo di algoritmo non è un'idea mia e siamo abbastanza certi che funzioni a dovere).\n",
        "\n",
        "Mi faccio dare la distribuizione di probabilità {P} associata ad ogni canale (quindi ad ogni cifra) applicando la funzione SoftMax all'output della rete."
      ]
    },
    {
      "cell_type": "code",
      "execution_count": null,
      "metadata": {
        "colab": {
          "base_uri": "https://localhost:8080/"
        },
        "id": "MmwEtTjQ-rIh",
        "outputId": "2e9b7c37-05f7-47ca-b0fd-a2d4010c4557"
      },
      "outputs": [
        {
          "output_type": "stream",
          "name": "stdout",
          "text": [
            "Predicted: [0 1 2 8 4 5 6 7 5 4] \n",
            "Labels:    [0 1 2 3 4 5 6 7 8 9]\n",
            "entropia di ogni canale (digit): [0.103033595, 0.01410418, 0.014693713, 0.5910282, 0.0067259753, 0.030808695, 0.00024006296, 0.00077312137, 0.42923236, 0.2373108]\n",
            "Accuracy of the network on the 10 test images: 7 su 10\n"
          ]
        }
      ],
      "source": [
        "with torch.no_grad():\n",
        "    n_correct = 0\n",
        "    n_samples = 0\n",
        "    count = 0\n",
        "    entropy = []\n",
        "    for images, labels in test_loader:\n",
        "        images = images.reshape(-1, 28*28).to(device)\n",
        "        labels = labels.to(device)\n",
        "        outputs = model(images)\n",
        "        prob = nn.Softmax(dim=1)(outputs)\n",
        "        #print(prob)\n",
        "        _, predicted = torch.max(outputs.data, 1)\n",
        "        n_samples += labels.size(0)\n",
        "        n_correct += (predicted == labels).sum().item()\n",
        "        print(f'Predicted: {predicted.numpy()} \\nLabels:    {labels.numpy()}')\n",
        "        for p in prob:\n",
        "          entropya = shannon_entropy(p.numpy())\n",
        "          entropy.append(entropya)\n",
        "        print(f'entropia di ogni canale (digit): {entropy}')\n",
        "    print(f'Accuracy of the network on the 10 test images: {n_correct} su {n_samples}')\n"
      ]
    },
    {
      "cell_type": "markdown",
      "metadata": {
        "id": "0F8MSGwpoEkc"
      },
      "source": [
        "Noto come più l'entropia è alta maggiore è la probabilità di errore nel riconoscimento della cifra (la trasmissione del segnale quindi viene totalmente compromessa), questo le varie probablità associate ad ogni label sono simili fra loro."
      ]
    }
  ],
  "metadata": {
    "colab": {
      "provenance": [],
      "authorship_tag": "ABX9TyMvxgjgsb1rwVgIW+JzbF5G",
      "include_colab_link": true
    },
    "kernelspec": {
      "display_name": "Python 3",
      "name": "python3"
    },
    "language_info": {
      "name": "python"
    }
  },
  "nbformat": 4,
  "nbformat_minor": 0
}